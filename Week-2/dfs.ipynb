{
 "cells": [
  {
   "cell_type": "code",
   "execution_count": 1,
   "metadata": {},
   "outputs": [],
   "source": [
    "model = {\"S\":[\"A\",\"B\",\"C\"],\n",
    "         \"A\":[\"S\",\"D\"],\n",
    "         \"B\":[\"S\",\"E\",\"D\",\"G\"],\n",
    "         \"C\":[\"S\",\"E\"],\n",
    "         \"D\":[\"A\",\"F\",\"B\"],\n",
    "         \"F\":[\"D\",\"G\",\"E\"],\n",
    "         \"E\":[\"C\",\"F\",\"H\",\"B\"],\n",
    "         \"H\":[\"E\",\"G\"],\n",
    "         \"G\":[\"F\",\"B\",\"H\"]\n",
    "        }"
   ]
  },
  {
   "cell_type": "code",
   "execution_count": 8,
   "metadata": {},
   "outputs": [
    {
     "name": "stdout",
     "output_type": "stream",
     "text": [
      "frontier ['S']\n",
      "value S\n",
      "explored ['S']\n"
     ]
    }
   ],
   "source": [
    "initial = \"S\"\n",
    "frontier = [initial]\n",
    "explored = []\n",
    "while frontier:\n",
    "    print(\"frontier\",frontier )\n",
    "    value = frontier.pop()\n",
    "    if value not in explored:\n",
    "        print(\"value\",value)\n",
    "        explored.append(value)\n",
    "        print(\"explored\",explored)\n"
   ]
  }
 ],
 "metadata": {
  "kernelspec": {
   "display_name": "Python 3",
   "language": "python",
   "name": "python3"
  },
  "language_info": {
   "codemirror_mode": {
    "name": "ipython",
    "version": 3
   },
   "file_extension": ".py",
   "mimetype": "text/x-python",
   "name": "python",
   "nbconvert_exporter": "python",
   "pygments_lexer": "ipython3",
   "version": "3.12.0"
  }
 },
 "nbformat": 4,
 "nbformat_minor": 2
}

{
 "cells": [
  {
   "cell_type": "code",
   "execution_count": 2,
   "metadata": {},
   "outputs": [],
   "source": [
    "model = {\"S\":[\"A\",\"B\",\"C\"],\n",
    "         \"A\":[\"S\",\"D\"],\n",
    "         \"B\":[\"S\",\"E\",\"D\",\"G\"],\n",
    "         \"C\":[\"S\",\"E\"],\n",
    "         \"D\":[\"A\",\"F\",\"B\"],\n",
    "         \"F\":[\"D\",\"G\",\"E\"],\n",
    "         \"E\":[\"C\",\"F\",\"H\",\"B\"],\n",
    "         \"H\":[\"E\",\"G\"],\n",
    "         \"G\":[\"F\",\"B\",\"H\"]\n",
    "        }"
   ]
  },
  {
   "cell_type": "code",
   "execution_count": 4,
   "metadata": {},
   "outputs": [
    {
     "name": "stdout",
     "output_type": "stream",
     "text": [
      "['S', 'A', 'B', 'C', 'D', 'E', 'G', 'F', 'H']\n"
     ]
    }
   ],
   "source": [
    "initial = \"S\"\n",
    "\n",
    "frontier = [initial]\n",
    "explored =[]\n",
    "while frontier:\n",
    "    value = frontier.pop(0)\n",
    "    if value not in explored:\n",
    "        explored.append(value)\n",
    "        new_frontier = [val for val in model[value] if val not in explored and val not in frontier]\n",
    "        frontier.extend(new_frontier)\n",
    "print(explored)"
   ]
  }
 ],
 "metadata": {
  "kernelspec": {
   "display_name": "Python 3",
   "language": "python",
   "name": "python3"
  },
  "language_info": {
   "codemirror_mode": {
    "name": "ipython",
    "version": 3
   },
   "file_extension": ".py",
   "mimetype": "text/x-python",
   "name": "python",
   "nbconvert_exporter": "python",
   "pygments_lexer": "ipython3",
   "version": "3.12.0"
  }
 },
 "nbformat": 4,
 "nbformat_minor": 2
}

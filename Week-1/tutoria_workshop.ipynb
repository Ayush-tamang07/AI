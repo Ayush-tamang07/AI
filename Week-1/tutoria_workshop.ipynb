{
 "cells": [
  {
   "cell_type": "code",
   "execution_count": 13,
   "metadata": {},
   "outputs": [],
   "source": [
    "from typing import List\n",
    "class Student:\n",
    "    def __init__(self,name:str, address:str, marks:List[int], roll_no:int):\n",
    "        self.name=name\n",
    "        self.address=address\n",
    "        self.marks=marks\n",
    "        self.roll_no=roll_no\n",
    "    def print_info(self):\n",
    "        print(f\"Name:{self.name}\")\n",
    "        print(f\"Address:{self.address}\")\n",
    "        print(f\"Marks:{self.marks}\")\n",
    "        print(f\"Roll No:{self.roll_no}\")\n",
    "        "
   ]
  },
  {
   "cell_type": "code",
   "execution_count": 14,
   "metadata": {},
   "outputs": [
    {
     "name": "stdout",
     "output_type": "stream",
     "text": [
      "Name:Ram\n",
      "Address:Dharan\n",
      "Marks:[100, 70, 50, 54, 60]\n",
      "Roll No:12\n"
     ]
    }
   ],
   "source": [
    "student_1 = Student(\"Ram\",\"Dharan\",[100,70,50,54,60],12)\n",
    "student_1.print_info()"
   ]
  },
  {
   "cell_type": "code",
   "execution_count": 82,
   "metadata": {},
   "outputs": [],
   "source": [
    "class Stack:\n",
    "    def __init__(self,init_value:int):\n",
    "        self.stack=[init_value]\n",
    "    def push(self,value):\n",
    "        self.stack.append(value)\n",
    "    def pop(self):\n",
    "        if len(self.stack)>0:\n",
    "            return self.stack.pop()\n",
    "        else:\n",
    "            print(\"error: stack is empty\")\n",
    "    def top(self):\n",
    "        if len(self.stack)>0:\n",
    "            return self.stack[-1]\n",
    "        else:\n",
    "            print(\"error: empty stack\")\n"
   ]
  },
  {
   "cell_type": "code",
   "execution_count": 32,
   "metadata": {},
   "outputs": [],
   "source": [
    "stack_01 = Stack(100)\n",
    "stack_01.push(101)\n",
    "stack_01.push(102)\n",
    "stack_01.push(103)\n",
    "stack_01.push(103)\n",
    "stack_01.push(1000)\n",
    "# print(stack_01.push(1000))\n",
    "# def print_all(self):\n",
    "#     print(stack_01)\n",
    "    "
   ]
  },
  {
   "cell_type": "code",
   "execution_count": 33,
   "metadata": {},
   "outputs": [],
   "source": [
    "# self pratice\n",
    "class SecondStack:\n",
    "    def __init__(self, number):\n",
    "        self.number=number\n",
    "    def push(self,value):\n",
    "        self.number.append(value)\n",
    "    def remove(self):\n",
    "        if len(self.number)>0:\n",
    "            return self.number.pop()\n",
    "        else:\n",
    "            print(\"error: stack is empty\")\n",
    "    def top(self):\n",
    "        if len(self.number)>0:\n",
    "            return self.number[-1]\n",
    "        else:\n",
    "            print(\"error: empty stack\")\n",
    "    \n",
    "        "
   ]
  },
  {
   "cell_type": "code",
   "execution_count": 85,
   "metadata": {},
   "outputs": [
    {
     "name": "stdout",
     "output_type": "stream",
     "text": [
      "10\n"
     ]
    }
   ],
   "source": [
    "stack_2 = Stack(100)\n",
    "stack_2.push(101)\n",
    "stack_2.push(102)\n",
    "stack_2.push(103)\n",
    "stack_2.push(103)\n",
    "stack_2.push(10)\n",
    "print(stack_2.remove())"
   ]
  },
  {
   "cell_type": "code",
   "execution_count": 103,
   "metadata": {},
   "outputs": [],
   "source": [
    "from collections import deque\n",
    "class Queue:\n",
    "\n",
    "    def __init__(self, init_value):\n",
    "        self.queue = deque([init_value])\n",
    "    \n",
    "    def enqueue(self,value):\n",
    "        return self.queue.appendleft(value)\n",
    "\n",
    "    def dequeue(self):\n",
    "        if len(self.queue)>0:\n",
    "            return self.queue.popleft()\n",
    "        else:\n",
    "            print(\"Queue is empty\")\n",
    "    \n",
    "    def front(self):\n",
    "        if len(self.queue):\n",
    "            return self.queue[0]\n",
    "        else:\n",
    "            print(\"Queue is empty\")\n",
    "\n",
    "    def rear(self):\n",
    "        if len(self.queue)>0:\n",
    "            return self.queue[-1]\n",
    "        else:\n",
    "            print(\"Queue is empty\")\n",
    "\n",
    "    "
   ]
  },
  {
   "cell_type": "code",
   "execution_count": 104,
   "metadata": {},
   "outputs": [
    {
     "name": "stdout",
     "output_type": "stream",
     "text": [
      "1003\n"
     ]
    }
   ],
   "source": [
    "s = Queue(1000)\n",
    "s.enqueue(1001)\n",
    "s.enqueue(1002)\n",
    "s.enqueue(1003)\n",
    "print(s.dequeue())\n",
    "\n"
   ]
  }
 ],
 "metadata": {
  "kernelspec": {
   "display_name": "Python 3",
   "language": "python",
   "name": "python3"
  },
  "language_info": {
   "codemirror_mode": {
    "name": "ipython",
    "version": 3
   },
   "file_extension": ".py",
   "mimetype": "text/x-python",
   "name": "python",
   "nbconvert_exporter": "python",
   "pygments_lexer": "ipython3",
   "version": "3.12.0"
  }
 },
 "nbformat": 4,
 "nbformat_minor": 2
}

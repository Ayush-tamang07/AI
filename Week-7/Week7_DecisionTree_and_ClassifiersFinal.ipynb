{
 "cells": [
  {
   "cell_type": "code",
   "execution_count": 2,
   "id": "0811437a",
   "metadata": {},
   "outputs": [
    {
     "data": {
      "text/html": [
       "<div>\n",
       "<style scoped>\n",
       "    .dataframe tbody tr th:only-of-type {\n",
       "        vertical-align: middle;\n",
       "    }\n",
       "\n",
       "    .dataframe tbody tr th {\n",
       "        vertical-align: top;\n",
       "    }\n",
       "\n",
       "    .dataframe thead th {\n",
       "        text-align: right;\n",
       "    }\n",
       "</style>\n",
       "<table border=\"1\" class=\"dataframe\">\n",
       "  <thead>\n",
       "    <tr style=\"text-align: right;\">\n",
       "      <th></th>\n",
       "      <th>StudyHours</th>\n",
       "      <th>SleepHours</th>\n",
       "      <th>Pass</th>\n",
       "    </tr>\n",
       "  </thead>\n",
       "  <tbody>\n",
       "    <tr>\n",
       "      <th>0</th>\n",
       "      <td>4.370861</td>\n",
       "      <td>7.210158</td>\n",
       "      <td>0</td>\n",
       "    </tr>\n",
       "    <tr>\n",
       "      <th>1</th>\n",
       "      <td>9.556429</td>\n",
       "      <td>4.420700</td>\n",
       "      <td>1</td>\n",
       "    </tr>\n",
       "    <tr>\n",
       "      <th>2</th>\n",
       "      <td>7.587945</td>\n",
       "      <td>4.808144</td>\n",
       "      <td>1</td>\n",
       "    </tr>\n",
       "    <tr>\n",
       "      <th>3</th>\n",
       "      <td>6.387926</td>\n",
       "      <td>8.492771</td>\n",
       "      <td>1</td>\n",
       "    </tr>\n",
       "    <tr>\n",
       "      <th>4</th>\n",
       "      <td>2.404168</td>\n",
       "      <td>7.032145</td>\n",
       "      <td>0</td>\n",
       "    </tr>\n",
       "    <tr>\n",
       "      <th>...</th>\n",
       "      <td>...</td>\n",
       "      <td>...</td>\n",
       "      <td>...</td>\n",
       "    </tr>\n",
       "    <tr>\n",
       "      <th>195</th>\n",
       "      <td>4.142886</td>\n",
       "      <td>8.653787</td>\n",
       "      <td>1</td>\n",
       "    </tr>\n",
       "    <tr>\n",
       "      <th>196</th>\n",
       "      <td>7.533601</td>\n",
       "      <td>8.292064</td>\n",
       "      <td>1</td>\n",
       "    </tr>\n",
       "    <tr>\n",
       "      <th>197</th>\n",
       "      <td>9.073992</td>\n",
       "      <td>6.144970</td>\n",
       "      <td>1</td>\n",
       "    </tr>\n",
       "    <tr>\n",
       "      <th>198</th>\n",
       "      <td>8.983778</td>\n",
       "      <td>7.754355</td>\n",
       "      <td>1</td>\n",
       "    </tr>\n",
       "    <tr>\n",
       "      <th>199</th>\n",
       "      <td>8.018880</td>\n",
       "      <td>7.772714</td>\n",
       "      <td>1</td>\n",
       "    </tr>\n",
       "  </tbody>\n",
       "</table>\n",
       "<p>200 rows × 3 columns</p>\n",
       "</div>"
      ],
      "text/plain": [
       "     StudyHours  SleepHours  Pass\n",
       "0      4.370861    7.210158     0\n",
       "1      9.556429    4.420700     1\n",
       "2      7.587945    4.808144     1\n",
       "3      6.387926    8.492771     1\n",
       "4      2.404168    7.032145     0\n",
       "..          ...         ...   ...\n",
       "195    4.142886    8.653787     1\n",
       "196    7.533601    8.292064     1\n",
       "197    9.073992    6.144970     1\n",
       "198    8.983778    7.754355     1\n",
       "199    8.018880    7.772714     1\n",
       "\n",
       "[200 rows x 3 columns]"
      ]
     },
     "execution_count": 2,
     "metadata": {},
     "output_type": "execute_result"
    }
   ],
   "source": [
    "import pandas as pd\n",
    "df = pd.read_csv('decision_tree_dataset.csv')\n",
    "df"
   ]
  },
  {
   "cell_type": "code",
   "execution_count": 3,
   "id": "04958876",
   "metadata": {},
   "outputs": [
    {
     "data": {
      "text/plain": [
       "array([0, 1], dtype=int64)"
      ]
     },
     "execution_count": 3,
     "metadata": {},
     "output_type": "execute_result"
    }
   ],
   "source": [
    "df['Pass'].unique()"
   ]
  },
  {
   "cell_type": "code",
   "execution_count": 4,
   "id": "1b065bbf",
   "metadata": {},
   "outputs": [
    {
     "name": "stdout",
     "output_type": "stream",
     "text": [
      "<class 'pandas.core.frame.DataFrame'>\n",
      "RangeIndex: 200 entries, 0 to 199\n",
      "Data columns (total 3 columns):\n",
      " #   Column      Non-Null Count  Dtype  \n",
      "---  ------      --------------  -----  \n",
      " 0   StudyHours  200 non-null    float64\n",
      " 1   SleepHours  200 non-null    float64\n",
      " 2   Pass        200 non-null    int64  \n",
      "dtypes: float64(2), int64(1)\n",
      "memory usage: 4.8 KB\n"
     ]
    }
   ],
   "source": [
    "df.info()"
   ]
  },
  {
   "cell_type": "code",
   "execution_count": 5,
   "id": "57cd6785",
   "metadata": {},
   "outputs": [
    {
     "data": {
      "text/html": [
       "<div>\n",
       "<style scoped>\n",
       "    .dataframe tbody tr th:only-of-type {\n",
       "        vertical-align: middle;\n",
       "    }\n",
       "\n",
       "    .dataframe tbody tr th {\n",
       "        vertical-align: top;\n",
       "    }\n",
       "\n",
       "    .dataframe thead th {\n",
       "        text-align: right;\n",
       "    }\n",
       "</style>\n",
       "<table border=\"1\" class=\"dataframe\">\n",
       "  <thead>\n",
       "    <tr style=\"text-align: right;\">\n",
       "      <th></th>\n",
       "      <th>StudyHours</th>\n",
       "      <th>SleepHours</th>\n",
       "      <th>Pass</th>\n",
       "    </tr>\n",
       "  </thead>\n",
       "  <tbody>\n",
       "    <tr>\n",
       "      <th>StudyHours</th>\n",
       "      <td>1.000000</td>\n",
       "      <td>-0.026887</td>\n",
       "      <td>0.803972</td>\n",
       "    </tr>\n",
       "    <tr>\n",
       "      <th>SleepHours</th>\n",
       "      <td>-0.026887</td>\n",
       "      <td>1.000000</td>\n",
       "      <td>0.277194</td>\n",
       "    </tr>\n",
       "    <tr>\n",
       "      <th>Pass</th>\n",
       "      <td>0.803972</td>\n",
       "      <td>0.277194</td>\n",
       "      <td>1.000000</td>\n",
       "    </tr>\n",
       "  </tbody>\n",
       "</table>\n",
       "</div>"
      ],
      "text/plain": [
       "            StudyHours  SleepHours      Pass\n",
       "StudyHours    1.000000   -0.026887  0.803972\n",
       "SleepHours   -0.026887    1.000000  0.277194\n",
       "Pass          0.803972    0.277194  1.000000"
      ]
     },
     "execution_count": 5,
     "metadata": {},
     "output_type": "execute_result"
    }
   ],
   "source": [
    "df.corr()"
   ]
  },
  {
   "cell_type": "code",
   "execution_count": 6,
   "id": "42ec0e68",
   "metadata": {},
   "outputs": [
    {
     "name": "stdout",
     "output_type": "stream",
     "text": [
      "Accuracy: 80.00%\n"
     ]
    },
    {
     "data": {
      "image/png": "[encoded data removed]",
      "text/plain": [
       "<Figure size 1000x600 with 1 Axes>"
      ]
     },
     "metadata": {},
     "output_type": "display_data"
    },
    {
     "name": "stdout",
     "output_type": "stream",
     "text": [
      "[0]\n"
     ]
    },
    {
     "name": "stderr",
     "output_type": "stream",
     "text": [
      "c:\\Users\\Ayush\\anaconda3\\Lib\\site-packages\\sklearn\\base.py:464: UserWarning: X does not have valid feature names, but DecisionTreeClassifier was fitted with feature names\n",
      "  warnings.warn(\n"
     ]
    }
   ],
   "source": [
    "import pandas as pd\n",
    "from sklearn.model_selection import train_test_split\n",
    "from sklearn.tree import DecisionTreeClassifier, plot_tree\n",
    "from sklearn.metrics import accuracy_score\n",
    "\n",
    "X = df.drop(columns=['Pass'],axis=1)  # Features\n",
    "y = df['Pass']  # Target\n",
    "\n",
    "# Step 3: Split the dataset into training and testing sets\n",
    "X_train, X_test, y_train, y_test = train_test_split(X, y, test_size=0.2, random_state=42)\n",
    "\n",
    "# Step 4: Create and train the Decision Tree model\n",
    "clf = DecisionTreeClassifier(criterion='gini', max_depth=3, random_state=42)\n",
    "clf.fit(X_train, y_train)\n",
    "\n",
    "# Step 5: Predict on the test set\n",
    "y_pred = clf.predict(X_test)\n",
    "\n",
    "# Step 6: Evaluate the model\n",
    "accuracy = accuracy_score(y_test, y_pred)\n",
    "print(f\"Accuracy: {accuracy * 100:.2f}%\")\n",
    "\n",
    "# Step 7: Visualize the Decision Tree\n",
    "import matplotlib.pyplot as plt\n",
    "\n",
    "plt.figure(figsize=(10, 6))\n",
    "plot_tree(clf, feature_names=['StudyHours', 'SleepHours'], class_names=['Fail', 'Pass'], filled=True)\n",
    "plt.show()\n",
    "print(clf.predict([[5,5]]))\n"
   ]
  },
  {
   "cell_type": "code",
   "execution_count": null,
   "id": "fb5d3d57",
   "metadata": {},
   "outputs": [],
   "source": []
  },
  {
   "cell_type": "code",
   "execution_count": null,
   "id": "35528bfb",
   "metadata": {},
   "outputs": [],
   "source": []
  },
  {
   "cell_type": "markdown",
   "id": "0ac14318",
   "metadata": {},
   "source": [
    "# Calculations of Gini, entropy and others"
   ]
  },
  {
   "cell_type": "code",
   "execution_count": 7,
   "id": "e015bb61",
   "metadata": {},
   "outputs": [],
   "source": [
    "import pandas as pd\n",
    "df = pd.read_csv('Golf_Data.csv')"
   ]
  },
  {
   "cell_type": "code",
   "execution_count": 8,
   "id": "1b55ab21",
   "metadata": {},
   "outputs": [
    {
     "data": {
      "text/html": [
       "<div>\n",
       "<style scoped>\n",
       "    .dataframe tbody tr th:only-of-type {\n",
       "        vertical-align: middle;\n",
       "    }\n",
       "\n",
       "    .dataframe tbody tr th {\n",
       "        vertical-align: top;\n",
       "    }\n",
       "\n",
       "    .dataframe thead th {\n",
       "        text-align: right;\n",
       "    }\n",
       "</style>\n",
       "<table border=\"1\" class=\"dataframe\">\n",
       "  <thead>\n",
       "    <tr style=\"text-align: right;\">\n",
       "      <th></th>\n",
       "      <th>Outlook</th>\n",
       "      <th>Temp</th>\n",
       "      <th>Humidity</th>\n",
       "      <th>Wind</th>\n",
       "      <th>Decision</th>\n",
       "    </tr>\n",
       "  </thead>\n",
       "  <tbody>\n",
       "    <tr>\n",
       "      <th>0</th>\n",
       "      <td>Sunny</td>\n",
       "      <td>Hot</td>\n",
       "      <td>High</td>\n",
       "      <td>Weak</td>\n",
       "      <td>No</td>\n",
       "    </tr>\n",
       "    <tr>\n",
       "      <th>1</th>\n",
       "      <td>Sunny</td>\n",
       "      <td>Hot</td>\n",
       "      <td>High</td>\n",
       "      <td>Strong</td>\n",
       "      <td>No</td>\n",
       "    </tr>\n",
       "    <tr>\n",
       "      <th>2</th>\n",
       "      <td>Overcast</td>\n",
       "      <td>Hot</td>\n",
       "      <td>High</td>\n",
       "      <td>Weak</td>\n",
       "      <td>Yes</td>\n",
       "    </tr>\n",
       "    <tr>\n",
       "      <th>3</th>\n",
       "      <td>Rain</td>\n",
       "      <td>Mild</td>\n",
       "      <td>High</td>\n",
       "      <td>Weak</td>\n",
       "      <td>Yes</td>\n",
       "    </tr>\n",
       "    <tr>\n",
       "      <th>4</th>\n",
       "      <td>Rain</td>\n",
       "      <td>Cool</td>\n",
       "      <td>Normal</td>\n",
       "      <td>Weak</td>\n",
       "      <td>Yes</td>\n",
       "    </tr>\n",
       "    <tr>\n",
       "      <th>5</th>\n",
       "      <td>Rain</td>\n",
       "      <td>Cool</td>\n",
       "      <td>Normal</td>\n",
       "      <td>Strong</td>\n",
       "      <td>No</td>\n",
       "    </tr>\n",
       "    <tr>\n",
       "      <th>6</th>\n",
       "      <td>Overcast</td>\n",
       "      <td>Cool</td>\n",
       "      <td>Normal</td>\n",
       "      <td>Strong</td>\n",
       "      <td>Yes</td>\n",
       "    </tr>\n",
       "    <tr>\n",
       "      <th>7</th>\n",
       "      <td>Sunny</td>\n",
       "      <td>Mild</td>\n",
       "      <td>High</td>\n",
       "      <td>Weak</td>\n",
       "      <td>No</td>\n",
       "    </tr>\n",
       "    <tr>\n",
       "      <th>8</th>\n",
       "      <td>Sunny</td>\n",
       "      <td>Cool</td>\n",
       "      <td>Normal</td>\n",
       "      <td>Weak</td>\n",
       "      <td>Yes</td>\n",
       "    </tr>\n",
       "    <tr>\n",
       "      <th>9</th>\n",
       "      <td>Rain</td>\n",
       "      <td>Mild</td>\n",
       "      <td>Normal</td>\n",
       "      <td>Weak</td>\n",
       "      <td>Yes</td>\n",
       "    </tr>\n",
       "    <tr>\n",
       "      <th>10</th>\n",
       "      <td>Sunny</td>\n",
       "      <td>Mild</td>\n",
       "      <td>Normal</td>\n",
       "      <td>Strong</td>\n",
       "      <td>Yes</td>\n",
       "    </tr>\n",
       "    <tr>\n",
       "      <th>11</th>\n",
       "      <td>Overcast</td>\n",
       "      <td>Mild</td>\n",
       "      <td>High</td>\n",
       "      <td>Strong</td>\n",
       "      <td>Yes</td>\n",
       "    </tr>\n",
       "    <tr>\n",
       "      <th>12</th>\n",
       "      <td>Overcast</td>\n",
       "      <td>Hot</td>\n",
       "      <td>Normal</td>\n",
       "      <td>Weak</td>\n",
       "      <td>Yes</td>\n",
       "    </tr>\n",
       "    <tr>\n",
       "      <th>13</th>\n",
       "      <td>Rain</td>\n",
       "      <td>Mild</td>\n",
       "      <td>High</td>\n",
       "      <td>Strong</td>\n",
       "      <td>No</td>\n",
       "    </tr>\n",
       "    <tr>\n",
       "      <th>14</th>\n",
       "      <td>Sunny</td>\n",
       "      <td>Cool</td>\n",
       "      <td>High</td>\n",
       "      <td>Weak</td>\n",
       "      <td>?</td>\n",
       "    </tr>\n",
       "  </tbody>\n",
       "</table>\n",
       "</div>"
      ],
      "text/plain": [
       "     Outlook  Temp Humidity    Wind Decision\n",
       "0      Sunny   Hot     High    Weak       No\n",
       "1      Sunny   Hot     High  Strong       No\n",
       "2   Overcast   Hot     High    Weak      Yes\n",
       "3       Rain  Mild     High    Weak      Yes\n",
       "4       Rain  Cool   Normal    Weak      Yes\n",
       "5       Rain  Cool   Normal  Strong       No\n",
       "6   Overcast  Cool   Normal  Strong      Yes\n",
       "7      Sunny  Mild     High    Weak       No\n",
       "8      Sunny  Cool   Normal    Weak      Yes\n",
       "9       Rain  Mild   Normal    Weak      Yes\n",
       "10     Sunny  Mild   Normal  Strong      Yes\n",
       "11  Overcast  Mild     High  Strong      Yes\n",
       "12  Overcast   Hot   Normal    Weak      Yes\n",
       "13      Rain  Mild     High  Strong       No\n",
       "14     Sunny  Cool     High    Weak        ?"
      ]
     },
     "execution_count": 8,
     "metadata": {},
     "output_type": "execute_result"
    }
   ],
   "source": [
    "df"
   ]
  },
  {
   "cell_type": "code",
   "execution_count": 9,
   "id": "e8d001cf",
   "metadata": {},
   "outputs": [
    {
     "data": {
      "text/html": [
       "<div>\n",
       "<style scoped>\n",
       "    .dataframe tbody tr th:only-of-type {\n",
       "        vertical-align: middle;\n",
       "    }\n",
       "\n",
       "    .dataframe tbody tr th {\n",
       "        vertical-align: top;\n",
       "    }\n",
       "\n",
       "    .dataframe thead th {\n",
       "        text-align: right;\n",
       "    }\n",
       "</style>\n",
       "<table border=\"1\" class=\"dataframe\">\n",
       "  <thead>\n",
       "    <tr style=\"text-align: right;\">\n",
       "      <th></th>\n",
       "      <th>Outlook</th>\n",
       "      <th>Temp</th>\n",
       "      <th>Humidity</th>\n",
       "      <th>Wind</th>\n",
       "      <th>Decision</th>\n",
       "    </tr>\n",
       "  </thead>\n",
       "  <tbody>\n",
       "    <tr>\n",
       "      <th>0</th>\n",
       "      <td>Sunny</td>\n",
       "      <td>Hot</td>\n",
       "      <td>High</td>\n",
       "      <td>Weak</td>\n",
       "      <td>No</td>\n",
       "    </tr>\n",
       "    <tr>\n",
       "      <th>1</th>\n",
       "      <td>Sunny</td>\n",
       "      <td>Hot</td>\n",
       "      <td>High</td>\n",
       "      <td>Strong</td>\n",
       "      <td>No</td>\n",
       "    </tr>\n",
       "    <tr>\n",
       "      <th>2</th>\n",
       "      <td>Overcast</td>\n",
       "      <td>Hot</td>\n",
       "      <td>High</td>\n",
       "      <td>Weak</td>\n",
       "      <td>Yes</td>\n",
       "    </tr>\n",
       "    <tr>\n",
       "      <th>3</th>\n",
       "      <td>Rain</td>\n",
       "      <td>Mild</td>\n",
       "      <td>High</td>\n",
       "      <td>Weak</td>\n",
       "      <td>Yes</td>\n",
       "    </tr>\n",
       "    <tr>\n",
       "      <th>4</th>\n",
       "      <td>Rain</td>\n",
       "      <td>Cool</td>\n",
       "      <td>Normal</td>\n",
       "      <td>Weak</td>\n",
       "      <td>Yes</td>\n",
       "    </tr>\n",
       "    <tr>\n",
       "      <th>5</th>\n",
       "      <td>Rain</td>\n",
       "      <td>Cool</td>\n",
       "      <td>Normal</td>\n",
       "      <td>Strong</td>\n",
       "      <td>No</td>\n",
       "    </tr>\n",
       "    <tr>\n",
       "      <th>6</th>\n",
       "      <td>Overcast</td>\n",
       "      <td>Cool</td>\n",
       "      <td>Normal</td>\n",
       "      <td>Strong</td>\n",
       "      <td>Yes</td>\n",
       "    </tr>\n",
       "    <tr>\n",
       "      <th>7</th>\n",
       "      <td>Sunny</td>\n",
       "      <td>Mild</td>\n",
       "      <td>High</td>\n",
       "      <td>Weak</td>\n",
       "      <td>No</td>\n",
       "    </tr>\n",
       "    <tr>\n",
       "      <th>8</th>\n",
       "      <td>Sunny</td>\n",
       "      <td>Cool</td>\n",
       "      <td>Normal</td>\n",
       "      <td>Weak</td>\n",
       "      <td>Yes</td>\n",
       "    </tr>\n",
       "    <tr>\n",
       "      <th>9</th>\n",
       "      <td>Rain</td>\n",
       "      <td>Mild</td>\n",
       "      <td>Normal</td>\n",
       "      <td>Weak</td>\n",
       "      <td>Yes</td>\n",
       "    </tr>\n",
       "    <tr>\n",
       "      <th>10</th>\n",
       "      <td>Sunny</td>\n",
       "      <td>Mild</td>\n",
       "      <td>Normal</td>\n",
       "      <td>Strong</td>\n",
       "      <td>Yes</td>\n",
       "    </tr>\n",
       "    <tr>\n",
       "      <th>11</th>\n",
       "      <td>Overcast</td>\n",
       "      <td>Mild</td>\n",
       "      <td>High</td>\n",
       "      <td>Strong</td>\n",
       "      <td>Yes</td>\n",
       "    </tr>\n",
       "    <tr>\n",
       "      <th>12</th>\n",
       "      <td>Overcast</td>\n",
       "      <td>Hot</td>\n",
       "      <td>Normal</td>\n",
       "      <td>Weak</td>\n",
       "      <td>Yes</td>\n",
       "    </tr>\n",
       "    <tr>\n",
       "      <th>13</th>\n",
       "      <td>Rain</td>\n",
       "      <td>Mild</td>\n",
       "      <td>High</td>\n",
       "      <td>Strong</td>\n",
       "      <td>No</td>\n",
       "    </tr>\n",
       "  </tbody>\n",
       "</table>\n",
       "</div>"
      ],
      "text/plain": [
       "     Outlook  Temp Humidity    Wind Decision\n",
       "0      Sunny   Hot     High    Weak       No\n",
       "1      Sunny   Hot     High  Strong       No\n",
       "2   Overcast   Hot     High    Weak      Yes\n",
       "3       Rain  Mild     High    Weak      Yes\n",
       "4       Rain  Cool   Normal    Weak      Yes\n",
       "5       Rain  Cool   Normal  Strong       No\n",
       "6   Overcast  Cool   Normal  Strong      Yes\n",
       "7      Sunny  Mild     High    Weak       No\n",
       "8      Sunny  Cool   Normal    Weak      Yes\n",
       "9       Rain  Mild   Normal    Weak      Yes\n",
       "10     Sunny  Mild   Normal  Strong      Yes\n",
       "11  Overcast  Mild     High  Strong      Yes\n",
       "12  Overcast   Hot   Normal    Weak      Yes\n",
       "13      Rain  Mild     High  Strong       No"
      ]
     },
     "execution_count": 9,
     "metadata": {},
     "output_type": "execute_result"
    }
   ],
   "source": [
    "df = df.drop(14)\n",
    "df"
   ]
  },
  {
   "cell_type": "code",
   "execution_count": 10,
   "id": "29932061",
   "metadata": {},
   "outputs": [
    {
     "data": {
      "text/plain": [
       "14"
      ]
     },
     "execution_count": 10,
     "metadata": {},
     "output_type": "execute_result"
    }
   ],
   "source": [
    "Total_sample = len(df)\n",
    "Total_sample"
   ]
  },
  {
   "cell_type": "code",
   "execution_count": 11,
   "id": "17b1e368",
   "metadata": {},
   "outputs": [
    {
     "data": {
      "text/plain": [
       "(9, 5)"
      ]
     },
     "execution_count": 11,
     "metadata": {},
     "output_type": "execute_result"
    }
   ],
   "source": [
    "DecisionCount_Yes = df['Decision'].value_counts()['Yes']\n",
    "DecisionCount_No = df['Decision'].value_counts()['No']\n",
    "DecisionCount_Yes, DecisionCount_No"
   ]
  },
  {
   "cell_type": "code",
   "execution_count": 12,
   "id": "b5164a67",
   "metadata": {},
   "outputs": [
    {
     "data": {
      "text/plain": [
       "Index(['Outlook', 'Temp', 'Humidity', 'Wind', 'Decision'], dtype='object')"
      ]
     },
     "execution_count": 12,
     "metadata": {},
     "output_type": "execute_result"
    }
   ],
   "source": [
    "df.columns"
   ]
  },
  {
   "cell_type": "code",
   "execution_count": 13,
   "id": "799e56fd",
   "metadata": {},
   "outputs": [
    {
     "data": {
      "text/plain": [
       "array(['Sunny', 'Overcast', 'Rain'], dtype=object)"
      ]
     },
     "execution_count": 13,
     "metadata": {},
     "output_type": "execute_result"
    }
   ],
   "source": [
    "# Feature: Outlook\n",
    "df['Outlook'].unique()"
   ]
  },
  {
   "cell_type": "markdown",
   "id": "eae69a30",
   "metadata": {},
   "source": [
    "#Feature Outlook\n",
    "Outlook     Count     Yes      No     Gini\n",
    "Sunny       5          2        3     1-(2/5)**2-(3/5)**2\n",
    "Overcast    4          4        0     1-(4/4)**2-(0/4)**2\n",
    "Rain        5          3        2     1-(3/5)**2-(2/5)**2"
   ]
  },
  {
   "cell_type": "code",
   "execution_count": 14,
   "id": "018c7052",
   "metadata": {},
   "outputs": [],
   "source": [
    "def calc_Gini(frac1,frac2):\n",
    "    res = 1-frac1**2-frac2**2\n",
    "    return res"
   ]
  },
  {
   "cell_type": "code",
   "execution_count": 15,
   "id": "6f036ecb",
   "metadata": {},
   "outputs": [
    {
     "data": {
      "text/plain": [
       "(0.48, 0.0, 0.48)"
      ]
     },
     "execution_count": 15,
     "metadata": {},
     "output_type": "execute_result"
    }
   ],
   "source": [
    "Gini_for_Sunny = calc_Gini(2/5,3/5)\n",
    "Gini_for_Overcast = calc_Gini(4/4,0/4)\n",
    "Gini_for_Rain = calc_Gini(3/5,2/5)\n",
    "Gini_for_Sunny, Gini_for_Overcast, Gini_for_Rain "
   ]
  },
  {
   "cell_type": "markdown",
   "id": "3d5b515e",
   "metadata": {},
   "source": [
    "### Weighted_Gini_for_Outlook"
   ]
  },
  {
   "cell_type": "code",
   "execution_count": 16,
   "id": "3c493ecd",
   "metadata": {},
   "outputs": [
    {
     "data": {
      "text/plain": [
       "0.34285714285714286"
      ]
     },
     "execution_count": 16,
     "metadata": {},
     "output_type": "execute_result"
    }
   ],
   "source": [
    "# Weighted_Gini_for_Outlook\n",
    "Gini_Outlook = (5/14)*0.48 + (4/14)*0 + (5/14)*0.48\n",
    "Gini_Outlook"
   ]
  },
  {
   "cell_type": "code",
   "execution_count": 17,
   "id": "03d0dd6f",
   "metadata": {},
   "outputs": [
    {
     "data": {
      "text/html": [
       "<div>\n",
       "<style scoped>\n",
       "    .dataframe tbody tr th:only-of-type {\n",
       "        vertical-align: middle;\n",
       "    }\n",
       "\n",
       "    .dataframe tbody tr th {\n",
       "        vertical-align: top;\n",
       "    }\n",
       "\n",
       "    .dataframe thead th {\n",
       "        text-align: right;\n",
       "    }\n",
       "</style>\n",
       "<table border=\"1\" class=\"dataframe\">\n",
       "  <thead>\n",
       "    <tr style=\"text-align: right;\">\n",
       "      <th></th>\n",
       "      <th>Outlook</th>\n",
       "      <th>Temp</th>\n",
       "      <th>Humidity</th>\n",
       "      <th>Wind</th>\n",
       "      <th>Decision</th>\n",
       "    </tr>\n",
       "  </thead>\n",
       "  <tbody>\n",
       "    <tr>\n",
       "      <th>0</th>\n",
       "      <td>Sunny</td>\n",
       "      <td>Hot</td>\n",
       "      <td>High</td>\n",
       "      <td>Weak</td>\n",
       "      <td>No</td>\n",
       "    </tr>\n",
       "    <tr>\n",
       "      <th>1</th>\n",
       "      <td>Sunny</td>\n",
       "      <td>Hot</td>\n",
       "      <td>High</td>\n",
       "      <td>Strong</td>\n",
       "      <td>No</td>\n",
       "    </tr>\n",
       "    <tr>\n",
       "      <th>2</th>\n",
       "      <td>Overcast</td>\n",
       "      <td>Hot</td>\n",
       "      <td>High</td>\n",
       "      <td>Weak</td>\n",
       "      <td>Yes</td>\n",
       "    </tr>\n",
       "    <tr>\n",
       "      <th>3</th>\n",
       "      <td>Rain</td>\n",
       "      <td>Mild</td>\n",
       "      <td>High</td>\n",
       "      <td>Weak</td>\n",
       "      <td>Yes</td>\n",
       "    </tr>\n",
       "    <tr>\n",
       "      <th>4</th>\n",
       "      <td>Rain</td>\n",
       "      <td>Cool</td>\n",
       "      <td>Normal</td>\n",
       "      <td>Weak</td>\n",
       "      <td>Yes</td>\n",
       "    </tr>\n",
       "    <tr>\n",
       "      <th>5</th>\n",
       "      <td>Rain</td>\n",
       "      <td>Cool</td>\n",
       "      <td>Normal</td>\n",
       "      <td>Strong</td>\n",
       "      <td>No</td>\n",
       "    </tr>\n",
       "    <tr>\n",
       "      <th>6</th>\n",
       "      <td>Overcast</td>\n",
       "      <td>Cool</td>\n",
       "      <td>Normal</td>\n",
       "      <td>Strong</td>\n",
       "      <td>Yes</td>\n",
       "    </tr>\n",
       "    <tr>\n",
       "      <th>7</th>\n",
       "      <td>Sunny</td>\n",
       "      <td>Mild</td>\n",
       "      <td>High</td>\n",
       "      <td>Weak</td>\n",
       "      <td>No</td>\n",
       "    </tr>\n",
       "    <tr>\n",
       "      <th>8</th>\n",
       "      <td>Sunny</td>\n",
       "      <td>Cool</td>\n",
       "      <td>Normal</td>\n",
       "      <td>Weak</td>\n",
       "      <td>Yes</td>\n",
       "    </tr>\n",
       "    <tr>\n",
       "      <th>9</th>\n",
       "      <td>Rain</td>\n",
       "      <td>Mild</td>\n",
       "      <td>Normal</td>\n",
       "      <td>Weak</td>\n",
       "      <td>Yes</td>\n",
       "    </tr>\n",
       "    <tr>\n",
       "      <th>10</th>\n",
       "      <td>Sunny</td>\n",
       "      <td>Mild</td>\n",
       "      <td>Normal</td>\n",
       "      <td>Strong</td>\n",
       "      <td>Yes</td>\n",
       "    </tr>\n",
       "    <tr>\n",
       "      <th>11</th>\n",
       "      <td>Overcast</td>\n",
       "      <td>Mild</td>\n",
       "      <td>High</td>\n",
       "      <td>Strong</td>\n",
       "      <td>Yes</td>\n",
       "    </tr>\n",
       "    <tr>\n",
       "      <th>12</th>\n",
       "      <td>Overcast</td>\n",
       "      <td>Hot</td>\n",
       "      <td>Normal</td>\n",
       "      <td>Weak</td>\n",
       "      <td>Yes</td>\n",
       "    </tr>\n",
       "    <tr>\n",
       "      <th>13</th>\n",
       "      <td>Rain</td>\n",
       "      <td>Mild</td>\n",
       "      <td>High</td>\n",
       "      <td>Strong</td>\n",
       "      <td>No</td>\n",
       "    </tr>\n",
       "  </tbody>\n",
       "</table>\n",
       "</div>"
      ],
      "text/plain": [
       "     Outlook  Temp Humidity    Wind Decision\n",
       "0      Sunny   Hot     High    Weak       No\n",
       "1      Sunny   Hot     High  Strong       No\n",
       "2   Overcast   Hot     High    Weak      Yes\n",
       "3       Rain  Mild     High    Weak      Yes\n",
       "4       Rain  Cool   Normal    Weak      Yes\n",
       "5       Rain  Cool   Normal  Strong       No\n",
       "6   Overcast  Cool   Normal  Strong      Yes\n",
       "7      Sunny  Mild     High    Weak       No\n",
       "8      Sunny  Cool   Normal    Weak      Yes\n",
       "9       Rain  Mild   Normal    Weak      Yes\n",
       "10     Sunny  Mild   Normal  Strong      Yes\n",
       "11  Overcast  Mild     High  Strong      Yes\n",
       "12  Overcast   Hot   Normal    Weak      Yes\n",
       "13      Rain  Mild     High  Strong       No"
      ]
     },
     "execution_count": 17,
     "metadata": {},
     "output_type": "execute_result"
    }
   ],
   "source": [
    "df"
   ]
  },
  {
   "cell_type": "code",
   "execution_count": 18,
   "id": "3e2146b1",
   "metadata": {},
   "outputs": [
    {
     "data": {
      "text/plain": [
       "(4, 6, 4)"
      ]
     },
     "execution_count": 18,
     "metadata": {},
     "output_type": "execute_result"
    }
   ],
   "source": [
    "len(df[df['Temp'] == 'Hot']) , len(df[df['Temp'] == 'Mild']), len(df[df['Temp'] == 'Cool'])"
   ]
  },
  {
   "cell_type": "code",
   "execution_count": 19,
   "id": "60996f89",
   "metadata": {},
   "outputs": [
    {
     "data": {
      "text/html": [
       "<div>\n",
       "<style scoped>\n",
       "    .dataframe tbody tr th:only-of-type {\n",
       "        vertical-align: middle;\n",
       "    }\n",
       "\n",
       "    .dataframe tbody tr th {\n",
       "        vertical-align: top;\n",
       "    }\n",
       "\n",
       "    .dataframe thead th {\n",
       "        text-align: right;\n",
       "    }\n",
       "</style>\n",
       "<table border=\"1\" class=\"dataframe\">\n",
       "  <thead>\n",
       "    <tr style=\"text-align: right;\">\n",
       "      <th></th>\n",
       "      <th>Outlook</th>\n",
       "      <th>Temp</th>\n",
       "      <th>Humidity</th>\n",
       "      <th>Wind</th>\n",
       "      <th>Decision</th>\n",
       "    </tr>\n",
       "  </thead>\n",
       "  <tbody>\n",
       "    <tr>\n",
       "      <th>4</th>\n",
       "      <td>Rain</td>\n",
       "      <td>Cool</td>\n",
       "      <td>Normal</td>\n",
       "      <td>Weak</td>\n",
       "      <td>Yes</td>\n",
       "    </tr>\n",
       "    <tr>\n",
       "      <th>5</th>\n",
       "      <td>Rain</td>\n",
       "      <td>Cool</td>\n",
       "      <td>Normal</td>\n",
       "      <td>Strong</td>\n",
       "      <td>No</td>\n",
       "    </tr>\n",
       "    <tr>\n",
       "      <th>6</th>\n",
       "      <td>Overcast</td>\n",
       "      <td>Cool</td>\n",
       "      <td>Normal</td>\n",
       "      <td>Strong</td>\n",
       "      <td>Yes</td>\n",
       "    </tr>\n",
       "    <tr>\n",
       "      <th>8</th>\n",
       "      <td>Sunny</td>\n",
       "      <td>Cool</td>\n",
       "      <td>Normal</td>\n",
       "      <td>Weak</td>\n",
       "      <td>Yes</td>\n",
       "    </tr>\n",
       "  </tbody>\n",
       "</table>\n",
       "</div>"
      ],
      "text/plain": [
       "    Outlook  Temp Humidity    Wind Decision\n",
       "4      Rain  Cool   Normal    Weak      Yes\n",
       "5      Rain  Cool   Normal  Strong       No\n",
       "6  Overcast  Cool   Normal  Strong      Yes\n",
       "8     Sunny  Cool   Normal    Weak      Yes"
      ]
     },
     "execution_count": 19,
     "metadata": {},
     "output_type": "execute_result"
    }
   ],
   "source": [
    "df[df['Temp'] == 'Cool']"
   ]
  },
  {
   "cell_type": "markdown",
   "id": "3ceb5f53",
   "metadata": {},
   "source": [
    "#For Temp\n",
    "#Feature Temp\n",
    "Temp     Count     Yes      No     Gini\n",
    "Hot       4        2        2     1-(2/4)**2-(2/4)**2\n",
    "Mild      6        4        2     1-(4/6)**2-(2/6)**2\n",
    "Cool      4        3        1     1-(3/4)**2-(1/4)**2"
   ]
  },
  {
   "cell_type": "code",
   "execution_count": 20,
   "id": "8805ffcf",
   "metadata": {},
   "outputs": [],
   "source": [
    "def calc_Gini(frac1,frac2):\n",
    "    res = 1-frac1**2-frac2**2\n",
    "    return res"
   ]
  },
  {
   "cell_type": "code",
   "execution_count": 21,
   "id": "0c9771af",
   "metadata": {},
   "outputs": [
    {
     "data": {
      "text/plain": [
       "(0.5, 0.4444444444444445, 0.375)"
      ]
     },
     "execution_count": 21,
     "metadata": {},
     "output_type": "execute_result"
    }
   ],
   "source": [
    "Gini_for_Hot = calc_Gini(2/4,2/4)\n",
    "Gini_for_Mild = calc_Gini(4/6,2/6)\n",
    "Gini_for_Cool = calc_Gini(3/4,1/4)\n",
    "Gini_for_Hot,  Gini_for_Mild,   Gini_for_Cool"
   ]
  },
  {
   "cell_type": "markdown",
   "id": "aab1d153",
   "metadata": {},
   "source": [
    "### Weighted_Gini_for_Temp"
   ]
  },
  {
   "cell_type": "code",
   "execution_count": 22,
   "id": "0403b81b",
   "metadata": {},
   "outputs": [
    {
     "data": {
      "text/plain": [
       "0.4402857142857143"
      ]
     },
     "execution_count": 22,
     "metadata": {},
     "output_type": "execute_result"
    }
   ],
   "source": [
    "weighted_Gini_Temp = (4/14)*0.5 + (6/14)*0.444 + (4/14)*0.375\n",
    "weighted_Gini_Temp"
   ]
  },
  {
   "cell_type": "markdown",
   "id": "848d6da7",
   "metadata": {},
   "source": [
    "#Feature Humidity\n",
    "#For Humidity\n",
    "Temp     Count     Yes      No     Gini                     Entropy\n",
    "High       7         3      4      1-(3/7)**2-(4/7)**2      -(3/7)*math.log2(3/7)-(4/7)*math.log2(4/7)\n",
    "Normal     7         6      1     1-(6/7)**2-(1/7)**2       -(6/7)*math.log2(6/7)-(4/7)*math.log2(6/7)\n"
   ]
  },
  {
   "cell_type": "code",
   "execution_count": 23,
   "id": "a17da2e9",
   "metadata": {},
   "outputs": [],
   "source": [
    "def calc_Gini(frac1,frac2):\n",
    "    res = 1-frac1**2-frac2**2\n",
    "    return res"
   ]
  },
  {
   "cell_type": "code",
   "execution_count": 24,
   "id": "44f77672",
   "metadata": {},
   "outputs": [
    {
     "data": {
      "text/plain": [
       "(0.489795918367347, 0.24489795918367355)"
      ]
     },
     "execution_count": 24,
     "metadata": {},
     "output_type": "execute_result"
    }
   ],
   "source": [
    "Gini_for_High = calc_Gini(3/7,4/7)\n",
    "Gini_for_Normal = calc_Gini(6/7,1/7)\n",
    "Gini_for_High, Gini_for_Normal"
   ]
  },
  {
   "cell_type": "markdown",
   "id": "5ec85b52",
   "metadata": {},
   "source": [
    "### Weighted_Gini_for_Humidity"
   ]
  },
  {
   "cell_type": "code",
   "execution_count": 25,
   "id": "f07f91db",
   "metadata": {},
   "outputs": [
    {
     "data": {
      "text/plain": [
       "0.367"
      ]
     },
     "execution_count": 25,
     "metadata": {},
     "output_type": "execute_result"
    }
   ],
   "source": [
    "weighted_Gini_Humidity = (7/14)*0.489 + (7/14)*0.245\n",
    "weighted_Gini_Humidity"
   ]
  },
  {
   "cell_type": "markdown",
   "id": "6e98a9be",
   "metadata": {},
   "source": [
    "#Similarly the weighted gini of wind will be Wind 0.429\n",
    "Feature   Weighted_Gini                   Weighted_Entropy\n",
    "Outlook      0.3428                          0.692\n",
    "Temp         0.44                            0.903\n",
    "Humidity     0.367                           0.788\n",
    "Wind         0.429                           0.894"
   ]
  },
  {
   "cell_type": "markdown",
   "id": "8fc1ae48",
   "metadata": {},
   "source": [
    "Using Gini, the best feature to split on is Outlook (lowest Gini = 0.3428).\n",
    "Using Entropy, the best feature to split on is Outlook (lowest Entropy = 0.692)."
   ]
  },
  {
   "cell_type": "code",
   "execution_count": 26,
   "id": "ec846ee9",
   "metadata": {},
   "outputs": [
    {
     "data": {
      "text/plain": [
       "(0.9402859586706311, 0.4591836734693877)"
      ]
     },
     "execution_count": 26,
     "metadata": {},
     "output_type": "execute_result"
    }
   ],
   "source": [
    "# calculations\n",
    "Gini_Parent  = 1- (9/14)**2 - (5/14)**2\n",
    "import math\n",
    "Entropy_Parent = -(9/14*math.log2(9/14))-(5/14*math.log2(5/14))\n",
    "Entropy_Parent ,Gini_Parent"
   ]
  },
  {
   "cell_type": "code",
   "execution_count": null,
   "id": "cf138968",
   "metadata": {},
   "outputs": [],
   "source": []
  },
  {
   "cell_type": "code",
   "execution_count": null,
   "id": "4a50a021",
   "metadata": {},
   "outputs": [],
   "source": []
  },
  {
   "cell_type": "code",
   "execution_count": 27,
   "id": "186cf46a",
   "metadata": {},
   "outputs": [
    {
     "data": {
      "text/html": [
       "<div>\n",
       "<style scoped>\n",
       "    .dataframe tbody tr th:only-of-type {\n",
       "        vertical-align: middle;\n",
       "    }\n",
       "\n",
       "    .dataframe tbody tr th {\n",
       "        vertical-align: top;\n",
       "    }\n",
       "\n",
       "    .dataframe thead th {\n",
       "        text-align: right;\n",
       "    }\n",
       "</style>\n",
       "<table border=\"1\" class=\"dataframe\">\n",
       "  <thead>\n",
       "    <tr style=\"text-align: right;\">\n",
       "      <th></th>\n",
       "      <th>loan_id</th>\n",
       "      <th>income_annum</th>\n",
       "      <th>loan_amount</th>\n",
       "      <th>loan_term</th>\n",
       "      <th>cibil_score</th>\n",
       "      <th>residential_assets_value</th>\n",
       "      <th>bank_asset_value</th>\n",
       "      <th>loan_status</th>\n",
       "    </tr>\n",
       "  </thead>\n",
       "  <tbody>\n",
       "    <tr>\n",
       "      <th>0</th>\n",
       "      <td>1</td>\n",
       "      <td>9600000</td>\n",
       "      <td>29900000</td>\n",
       "      <td>12</td>\n",
       "      <td>778</td>\n",
       "      <td>2400000</td>\n",
       "      <td>8000000</td>\n",
       "      <td>Approved</td>\n",
       "    </tr>\n",
       "    <tr>\n",
       "      <th>1</th>\n",
       "      <td>2</td>\n",
       "      <td>4100000</td>\n",
       "      <td>12200000</td>\n",
       "      <td>8</td>\n",
       "      <td>417</td>\n",
       "      <td>2700000</td>\n",
       "      <td>3300000</td>\n",
       "      <td>Rejected</td>\n",
       "    </tr>\n",
       "    <tr>\n",
       "      <th>2</th>\n",
       "      <td>3</td>\n",
       "      <td>9100000</td>\n",
       "      <td>29700000</td>\n",
       "      <td>20</td>\n",
       "      <td>506</td>\n",
       "      <td>7100000</td>\n",
       "      <td>12800000</td>\n",
       "      <td>Rejected</td>\n",
       "    </tr>\n",
       "    <tr>\n",
       "      <th>3</th>\n",
       "      <td>4</td>\n",
       "      <td>8200000</td>\n",
       "      <td>30700000</td>\n",
       "      <td>8</td>\n",
       "      <td>467</td>\n",
       "      <td>18200000</td>\n",
       "      <td>7900000</td>\n",
       "      <td>Rejected</td>\n",
       "    </tr>\n",
       "    <tr>\n",
       "      <th>4</th>\n",
       "      <td>5</td>\n",
       "      <td>9800000</td>\n",
       "      <td>24200000</td>\n",
       "      <td>20</td>\n",
       "      <td>382</td>\n",
       "      <td>12400000</td>\n",
       "      <td>5000000</td>\n",
       "      <td>Rejected</td>\n",
       "    </tr>\n",
       "  </tbody>\n",
       "</table>\n",
       "</div>"
      ],
      "text/plain": [
       "   loan_id  income_annum  loan_amount  loan_term  cibil_score  \\\n",
       "0        1       9600000     29900000         12          778   \n",
       "1        2       4100000     12200000          8          417   \n",
       "2        3       9100000     29700000         20          506   \n",
       "3        4       8200000     30700000          8          467   \n",
       "4        5       9800000     24200000         20          382   \n",
       "\n",
       "   residential_assets_value  bank_asset_value loan_status  \n",
       "0                   2400000           8000000    Approved  \n",
       "1                   2700000           3300000    Rejected  \n",
       "2                   7100000          12800000    Rejected  \n",
       "3                  18200000           7900000    Rejected  \n",
       "4                  12400000           5000000    Rejected  "
      ]
     },
     "execution_count": 27,
     "metadata": {},
     "output_type": "execute_result"
    }
   ],
   "source": [
    "import pandas as pd\n",
    "df = pd.read_csv('loan_approval_dataset.csv')\n",
    "df.head()"
   ]
  },
  {
   "cell_type": "code",
   "execution_count": 28,
   "id": "0cd1d3fc",
   "metadata": {},
   "outputs": [
    {
     "name": "stdout",
     "output_type": "stream",
     "text": [
      "<class 'pandas.core.frame.DataFrame'>\n",
      "RangeIndex: 4269 entries, 0 to 4268\n",
      "Data columns (total 8 columns):\n",
      " #   Column                    Non-Null Count  Dtype \n",
      "---  ------                    --------------  ----- \n",
      " 0   loan_id                   4269 non-null   int64 \n",
      " 1   income_annum              4269 non-null   int64 \n",
      " 2   loan_amount               4269 non-null   int64 \n",
      " 3   loan_term                 4269 non-null   int64 \n",
      " 4   cibil_score               4269 non-null   int64 \n",
      " 5   residential_assets_value  4269 non-null   int64 \n",
      " 6   bank_asset_value          4269 non-null   int64 \n",
      " 7   loan_status               4269 non-null   object\n",
      "dtypes: int64(7), object(1)\n",
      "memory usage: 266.9+ KB\n"
     ]
    }
   ],
   "source": [
    "df.info()"
   ]
  },
  {
   "cell_type": "code",
   "execution_count": 29,
   "id": "1067ba23",
   "metadata": {},
   "outputs": [
    {
     "data": {
      "text/plain": [
       "Index(['loan_id', 'income_annum', 'loan_amount', 'loan_term', 'cibil_score',\n",
       "       'residential_assets_value', 'bank_asset_value', 'loan_status'],\n",
       "      dtype='object')"
      ]
     },
     "execution_count": 29,
     "metadata": {},
     "output_type": "execute_result"
    }
   ],
   "source": [
    "df.columns"
   ]
  },
  {
   "cell_type": "code",
   "execution_count": 30,
   "id": "1a1d06ce",
   "metadata": {},
   "outputs": [],
   "source": [
    "X = df.drop(columns=['loan_status'],axis=1)\n",
    "y = df['loan_status']"
   ]
  },
  {
   "cell_type": "code",
   "execution_count": 31,
   "id": "1904d324",
   "metadata": {},
   "outputs": [],
   "source": [
    "from sklearn.model_selection import train_test_split"
   ]
  },
  {
   "cell_type": "code",
   "execution_count": 32,
   "id": "462bf1d8",
   "metadata": {},
   "outputs": [],
   "source": [
    "X_train,X_test,y_train,y_test = train_test_split(X,y,test_size=0.2,random_state=100)"
   ]
  },
  {
   "cell_type": "code",
   "execution_count": 33,
   "id": "211ea8c4",
   "metadata": {},
   "outputs": [],
   "source": [
    "from sklearn.tree import DecisionTreeClassifier\n",
    "from sklearn import tree"
   ]
  },
  {
   "cell_type": "code",
   "execution_count": 34,
   "id": "997f2d09",
   "metadata": {},
   "outputs": [
    {
     "data": {
      "text/html": [
       "<style>#sk-container-id-1 {color: black;}#sk-container-id-1 pre{padding: 0;}#sk-container-id-1 div.sk-toggleable {background-color: white;}#sk-container-id-1 label.sk-toggleable__label {cursor: pointer;display: block;width: 100%;margin-bottom: 0;padding: 0.3em;box-sizing: border-box;text-align: center;}#sk-container-id-1 label.sk-toggleable__label-arrow:before {content: \"▸\";float: left;margin-right: 0.25em;color: #696969;}#sk-container-id-1 label.sk-toggleable__label-arrow:hover:before {color: black;}#sk-container-id-1 div.sk-estimator:hover label.sk-toggleable__label-arrow:before {color: black;}#sk-container-id-1 div.sk-toggleable__content {max-height: 0;max-width: 0;overflow: hidden;text-align: left;background-color: #f0f8ff;}#sk-container-id-1 div.sk-toggleable__content pre {margin: 0.2em;color: black;border-radius: 0.25em;background-color: #f0f8ff;}#sk-container-id-1 input.sk-toggleable__control:checked~div.sk-toggleable__content {max-height: 200px;max-width: 100%;overflow: auto;}#sk-container-id-1 input.sk-toggleable__control:checked~label.sk-toggleable__label-arrow:before {content: \"▾\";}#sk-container-id-1 div.sk-estimator input.sk-toggleable__control:checked~label.sk-toggleable__label {background-color: #d4ebff;}#sk-container-id-1 div.sk-label input.sk-toggleable__control:checked~label.sk-toggleable__label {background-color: #d4ebff;}#sk-container-id-1 input.sk-hidden--visually {border: 0;clip: rect(1px 1px 1px 1px);clip: rect(1px, 1px, 1px, 1px);height: 1px;margin: -1px;overflow: hidden;padding: 0;position: absolute;width: 1px;}#sk-container-id-1 div.sk-estimator {font-family: monospace;background-color: #f0f8ff;border: 1px dotted black;border-radius: 0.25em;box-sizing: border-box;margin-bottom: 0.5em;}#sk-container-id-1 div.sk-estimator:hover {background-color: #d4ebff;}#sk-container-id-1 div.sk-parallel-item::after {content: \"\";width: 100%;border-bottom: 1px solid gray;flex-grow: 1;}#sk-container-id-1 div.sk-label:hover label.sk-toggleable__label {background-color: #d4ebff;}#sk-container-id-1 div.sk-serial::before {content: \"\";position: absolute;border-left: 1px solid gray;box-sizing: border-box;top: 0;bottom: 0;left: 50%;z-index: 0;}#sk-container-id-1 div.sk-serial {display: flex;flex-direction: column;align-items: center;background-color: white;padding-right: 0.2em;padding-left: 0.2em;position: relative;}#sk-container-id-1 div.sk-item {position: relative;z-index: 1;}#sk-container-id-1 div.sk-parallel {display: flex;align-items: stretch;justify-content: center;background-color: white;position: relative;}#sk-container-id-1 div.sk-item::before, #sk-container-id-1 div.sk-parallel-item::before {content: \"\";position: absolute;border-left: 1px solid gray;box-sizing: border-box;top: 0;bottom: 0;left: 50%;z-index: -1;}#sk-container-id-1 div.sk-parallel-item {display: flex;flex-direction: column;z-index: 1;position: relative;background-color: white;}#sk-container-id-1 div.sk-parallel-item:first-child::after {align-self: flex-end;width: 50%;}#sk-container-id-1 div.sk-parallel-item:last-child::after {align-self: flex-start;width: 50%;}#sk-container-id-1 div.sk-parallel-item:only-child::after {width: 0;}#sk-container-id-1 div.sk-dashed-wrapped {border: 1px dashed gray;margin: 0 0.4em 0.5em 0.4em;box-sizing: border-box;padding-bottom: 0.4em;background-color: white;}#sk-container-id-1 div.sk-label label {font-family: monospace;font-weight: bold;display: inline-block;line-height: 1.2em;}#sk-container-id-1 div.sk-label-container {text-align: center;}#sk-container-id-1 div.sk-container {/* jupyter's `normalize.less` sets `[hidden] { display: none; }` but bootstrap.min.css set `[hidden] { display: none !important; }` so we also need the `!important` here to be able to override the default hidden behavior on the sphinx rendered scikit-learn.org. See: https://github.com/scikit-learn/scikit-learn/issues/21755 */display: inline-block !important;position: relative;}#sk-container-id-1 div.sk-text-repr-fallback {display: none;}</style><div id=\"sk-container-id-1\" class=\"sk-top-container\"><div class=\"sk-text-repr-fallback\"><pre>DecisionTreeClassifier(criterion=&#x27;entropy&#x27;, max_depth=3, min_samples_leaf=5,\n",
       "                       random_state=100)</pre><b>In a Jupyter environment, please rerun this cell to show the HTML representation or trust the notebook. <br />On GitHub, the HTML representation is unable to render, please try loading this page with nbviewer.org.</b></div><div class=\"sk-container\" hidden><div class=\"sk-item\"><div class=\"sk-estimator sk-toggleable\"><input class=\"sk-toggleable__control sk-hidden--visually\" id=\"sk-estimator-id-1\" type=\"checkbox\" checked><label for=\"sk-estimator-id-1\" class=\"sk-toggleable__label sk-toggleable__label-arrow\">DecisionTreeClassifier</label><div class=\"sk-toggleable__content\"><pre>DecisionTreeClassifier(criterion=&#x27;entropy&#x27;, max_depth=3, min_samples_leaf=5,\n",
       "                       random_state=100)</pre></div></div></div></div></div>"
      ],
      "text/plain": [
       "DecisionTreeClassifier(criterion='entropy', max_depth=3, min_samples_leaf=5,\n",
       "                       random_state=100)"
      ]
     },
     "execution_count": 34,
     "metadata": {},
     "output_type": "execute_result"
    }
   ],
   "source": [
    "clf_entropy = DecisionTreeClassifier(criterion='entropy',random_state=100, max_depth=3,min_samples_leaf=5)\n",
    "clf_entropy.fit(X_train,y_train)"
   ]
  },
  {
   "cell_type": "code",
   "execution_count": 35,
   "id": "c88b5536",
   "metadata": {},
   "outputs": [
    {
     "data": {
      "text/plain": [
       "array([' Approved', ' Approved', ' Approved', ' Approved', ' Approved',\n",
       "       ' Approved', ' Approved', ' Approved', ' Approved', ' Rejected',\n",
       "       ' Approved', ' Approved', ' Approved', ' Approved', ' Approved',\n",
       "       ' Approved', ' Approved', ' Rejected', ' Rejected', ' Approved',\n",
       "       ' Rejected', ' Rejected', ' Approved', ' Rejected', ' Approved',\n",
       "       ' Rejected', ' Rejected', ' Approved', ' Approved', ' Rejected',\n",
       "       ' Approved', ' Approved', ' Rejected', ' Approved', ' Approved',\n",
       "       ' Rejected', ' Approved', ' Approved', ' Rejected', ' Approved',\n",
       "       ' Approved', ' Rejected', ' Approved', ' Rejected', ' Approved',\n",
       "       ' Approved', ' Rejected', ' Approved', ' Approved', ' Rejected',\n",
       "       ' Rejected', ' Rejected', ' Approved', ' Approved', ' Approved',\n",
       "       ' Approved', ' Approved', ' Approved', ' Approved', ' Approved',\n",
       "       ' Rejected', ' Rejected', ' Approved', ' Approved', ' Approved',\n",
       "       ' Approved', ' Approved', ' Approved', ' Approved', ' Approved',\n",
       "       ' Approved', ' Approved', ' Approved', ' Approved', ' Approved',\n",
       "       ' Approved', ' Approved', ' Approved', ' Approved', ' Approved',\n",
       "       ' Approved', ' Approved', ' Rejected', ' Approved', ' Approved',\n",
       "       ' Approved', ' Rejected', ' Approved', ' Rejected', ' Rejected',\n",
       "       ' Rejected', ' Approved', ' Rejected', ' Rejected', ' Approved',\n",
       "       ' Rejected', ' Rejected', ' Approved', ' Rejected', ' Approved',\n",
       "       ' Rejected', ' Rejected', ' Rejected', ' Approved', ' Approved',\n",
       "       ' Approved', ' Rejected', ' Rejected', ' Approved', ' Approved',\n",
       "       ' Rejected', ' Approved', ' Rejected', ' Approved', ' Approved',\n",
       "       ' Approved', ' Approved', ' Approved', ' Approved', ' Rejected',\n",
       "       ' Rejected', ' Approved', ' Rejected', ' Approved', ' Rejected',\n",
       "       ' Approved', ' Rejected', ' Rejected', ' Approved', ' Rejected',\n",
       "       ' Rejected', ' Approved', ' Rejected', ' Approved', ' Approved',\n",
       "       ' Approved', ' Approved', ' Rejected', ' Approved', ' Approved',\n",
       "       ' Rejected', ' Rejected', ' Approved', ' Rejected', ' Approved',\n",
       "       ' Approved', ' Rejected', ' Approved', ' Approved', ' Rejected',\n",
       "       ' Rejected', ' Approved', ' Rejected', ' Approved', ' Approved',\n",
       "       ' Rejected', ' Approved', ' Approved', ' Approved', ' Approved',\n",
       "       ' Rejected', ' Approved', ' Rejected', ' Approved', ' Rejected',\n",
       "       ' Approved', ' Approved', ' Approved', ' Rejected', ' Rejected',\n",
       "       ' Rejected', ' Rejected', ' Rejected', ' Rejected', ' Approved',\n",
       "       ' Approved', ' Approved', ' Rejected', ' Approved', ' Approved',\n",
       "       ' Rejected', ' Approved', ' Approved', ' Approved', ' Approved',\n",
       "       ' Approved', ' Approved', ' Approved', ' Rejected', ' Rejected',\n",
       "       ' Approved', ' Approved', ' Approved', ' Rejected', ' Approved',\n",
       "       ' Rejected', ' Approved', ' Approved', ' Approved', ' Approved',\n",
       "       ' Approved', ' Rejected', ' Rejected', ' Approved', ' Rejected',\n",
       "       ' Approved', ' Approved', ' Approved', ' Approved', ' Rejected',\n",
       "       ' Approved', ' Approved', ' Approved', ' Rejected', ' Approved',\n",
       "       ' Approved', ' Rejected', ' Approved', ' Rejected', ' Rejected',\n",
       "       ' Rejected', ' Rejected', ' Approved', ' Approved', ' Approved',\n",
       "       ' Approved', ' Approved', ' Rejected', ' Approved', ' Approved',\n",
       "       ' Approved', ' Rejected', ' Approved', ' Approved', ' Approved',\n",
       "       ' Rejected', ' Rejected', ' Approved', ' Rejected', ' Rejected',\n",
       "       ' Approved', ' Approved', ' Approved', ' Rejected', ' Approved',\n",
       "       ' Approved', ' Approved', ' Rejected', ' Approved', ' Approved',\n",
       "       ' Approved', ' Approved', ' Approved', ' Approved', ' Rejected',\n",
       "       ' Rejected', ' Rejected', ' Approved', ' Approved', ' Rejected',\n",
       "       ' Approved', ' Approved', ' Rejected', ' Approved', ' Rejected',\n",
       "       ' Approved', ' Approved', ' Rejected', ' Approved', ' Rejected',\n",
       "       ' Rejected', ' Rejected', ' Approved', ' Approved', ' Rejected',\n",
       "       ' Rejected', ' Rejected', ' Approved', ' Approved', ' Approved',\n",
       "       ' Rejected', ' Approved', ' Rejected', ' Approved', ' Approved',\n",
       "       ' Approved', ' Rejected', ' Approved', ' Rejected', ' Rejected',\n",
       "       ' Approved', ' Approved', ' Approved', ' Rejected', ' Rejected',\n",
       "       ' Approved', ' Rejected', ' Approved', ' Approved', ' Rejected',\n",
       "       ' Approved', ' Approved', ' Approved', ' Rejected', ' Rejected',\n",
       "       ' Approved', ' Rejected', ' Approved', ' Rejected', ' Approved',\n",
       "       ' Rejected', ' Rejected', ' Approved', ' Rejected', ' Rejected',\n",
       "       ' Approved', ' Approved', ' Rejected', ' Approved', ' Rejected',\n",
       "       ' Rejected', ' Rejected', ' Approved', ' Approved', ' Approved',\n",
       "       ' Approved', ' Approved', ' Approved', ' Approved', ' Rejected',\n",
       "       ' Rejected', ' Approved', ' Rejected', ' Approved', ' Rejected',\n",
       "       ' Rejected', ' Approved', ' Approved', ' Rejected', ' Rejected',\n",
       "       ' Rejected', ' Approved', ' Approved', ' Rejected', ' Approved',\n",
       "       ' Rejected', ' Approved', ' Approved', ' Approved', ' Approved',\n",
       "       ' Approved', ' Rejected', ' Rejected', ' Approved', ' Approved',\n",
       "       ' Rejected', ' Rejected', ' Approved', ' Approved', ' Rejected',\n",
       "       ' Rejected', ' Rejected', ' Rejected', ' Approved', ' Approved',\n",
       "       ' Approved', ' Rejected', ' Rejected', ' Approved', ' Approved',\n",
       "       ' Approved', ' Rejected', ' Rejected', ' Rejected', ' Approved',\n",
       "       ' Approved', ' Approved', ' Approved', ' Rejected', ' Rejected',\n",
       "       ' Rejected', ' Rejected', ' Approved', ' Rejected', ' Approved',\n",
       "       ' Approved', ' Approved', ' Rejected', ' Rejected', ' Approved',\n",
       "       ' Rejected', ' Rejected', ' Rejected', ' Approved', ' Rejected',\n",
       "       ' Approved', ' Rejected', ' Approved', ' Approved', ' Approved',\n",
       "       ' Rejected', ' Rejected', ' Rejected', ' Approved', ' Approved',\n",
       "       ' Rejected', ' Approved', ' Approved', ' Rejected', ' Rejected',\n",
       "       ' Approved', ' Rejected', ' Rejected', ' Approved', ' Approved',\n",
       "       ' Rejected', ' Rejected', ' Approved', ' Rejected', ' Rejected',\n",
       "       ' Approved', ' Rejected', ' Approved', ' Rejected', ' Rejected',\n",
       "       ' Rejected', ' Approved', ' Rejected', ' Rejected', ' Approved',\n",
       "       ' Approved', ' Approved', ' Rejected', ' Rejected', ' Rejected',\n",
       "       ' Approved', ' Rejected', ' Approved', ' Rejected', ' Approved',\n",
       "       ' Approved', ' Rejected', ' Rejected', ' Rejected', ' Rejected',\n",
       "       ' Approved', ' Approved', ' Rejected', ' Approved', ' Rejected',\n",
       "       ' Approved', ' Approved', ' Approved', ' Rejected', ' Rejected',\n",
       "       ' Rejected', ' Approved', ' Approved', ' Rejected', ' Rejected',\n",
       "       ' Approved', ' Approved', ' Rejected', ' Approved', ' Approved',\n",
       "       ' Approved', ' Rejected', ' Rejected', ' Approved', ' Rejected',\n",
       "       ' Approved', ' Approved', ' Rejected', ' Approved', ' Approved',\n",
       "       ' Rejected', ' Approved', ' Approved', ' Rejected', ' Approved',\n",
       "       ' Approved', ' Rejected', ' Approved', ' Rejected', ' Approved',\n",
       "       ' Rejected', ' Approved', ' Approved', ' Approved', ' Approved',\n",
       "       ' Approved', ' Rejected', ' Rejected', ' Rejected', ' Approved',\n",
       "       ' Approved', ' Approved', ' Approved', ' Rejected', ' Rejected',\n",
       "       ' Rejected', ' Rejected', ' Approved', ' Rejected', ' Rejected',\n",
       "       ' Approved', ' Rejected', ' Approved', ' Approved', ' Rejected',\n",
       "       ' Approved', ' Approved', ' Approved', ' Approved', ' Rejected',\n",
       "       ' Rejected', ' Rejected', ' Rejected', ' Approved', ' Rejected',\n",
       "       ' Approved', ' Approved', ' Rejected', ' Approved', ' Approved',\n",
       "       ' Rejected', ' Approved', ' Approved', ' Rejected', ' Rejected',\n",
       "       ' Rejected', ' Rejected', ' Approved', ' Approved', ' Approved',\n",
       "       ' Rejected', ' Approved', ' Approved', ' Approved', ' Rejected',\n",
       "       ' Rejected', ' Rejected', ' Rejected', ' Rejected', ' Rejected',\n",
       "       ' Approved', ' Rejected', ' Rejected', ' Rejected', ' Approved',\n",
       "       ' Approved', ' Approved', ' Approved', ' Approved', ' Approved',\n",
       "       ' Approved', ' Approved', ' Approved', ' Approved', ' Approved',\n",
       "       ' Approved', ' Approved', ' Approved', ' Approved', ' Rejected',\n",
       "       ' Approved', ' Approved', ' Approved', ' Approved', ' Rejected',\n",
       "       ' Approved', ' Approved', ' Rejected', ' Approved', ' Approved',\n",
       "       ' Rejected', ' Rejected', ' Rejected', ' Rejected', ' Approved',\n",
       "       ' Approved', ' Approved', ' Rejected', ' Rejected', ' Rejected',\n",
       "       ' Approved', ' Approved', ' Approved', ' Approved', ' Approved',\n",
       "       ' Approved', ' Rejected', ' Approved', ' Rejected', ' Rejected',\n",
       "       ' Approved', ' Approved', ' Approved', ' Rejected', ' Approved',\n",
       "       ' Approved', ' Rejected', ' Approved', ' Approved', ' Rejected',\n",
       "       ' Rejected', ' Approved', ' Rejected', ' Approved', ' Rejected',\n",
       "       ' Approved', ' Approved', ' Approved', ' Approved', ' Approved',\n",
       "       ' Approved', ' Rejected', ' Approved', ' Rejected', ' Approved',\n",
       "       ' Approved', ' Rejected', ' Rejected', ' Approved', ' Rejected',\n",
       "       ' Rejected', ' Approved', ' Rejected', ' Approved', ' Rejected',\n",
       "       ' Approved', ' Approved', ' Approved', ' Approved', ' Approved',\n",
       "       ' Rejected', ' Approved', ' Approved', ' Rejected', ' Approved',\n",
       "       ' Rejected', ' Approved', ' Approved', ' Rejected', ' Approved',\n",
       "       ' Approved', ' Approved', ' Approved', ' Rejected', ' Approved',\n",
       "       ' Rejected', ' Rejected', ' Rejected', ' Rejected', ' Approved',\n",
       "       ' Approved', ' Approved', ' Approved', ' Rejected', ' Rejected',\n",
       "       ' Rejected', ' Approved', ' Approved', ' Approved', ' Rejected',\n",
       "       ' Approved', ' Rejected', ' Rejected', ' Approved', ' Rejected',\n",
       "       ' Rejected', ' Approved', ' Rejected', ' Rejected', ' Rejected',\n",
       "       ' Approved', ' Rejected', ' Rejected', ' Rejected', ' Rejected',\n",
       "       ' Approved', ' Approved', ' Rejected', ' Approved', ' Rejected',\n",
       "       ' Approved', ' Approved', ' Rejected', ' Approved', ' Approved',\n",
       "       ' Approved', ' Rejected', ' Rejected', ' Approved', ' Approved',\n",
       "       ' Approved', ' Approved', ' Rejected', ' Approved', ' Rejected',\n",
       "       ' Approved', ' Approved', ' Approved', ' Rejected', ' Rejected',\n",
       "       ' Approved', ' Approved', ' Rejected', ' Approved', ' Rejected',\n",
       "       ' Rejected', ' Approved', ' Rejected', ' Approved', ' Rejected',\n",
       "       ' Approved', ' Approved', ' Approved', ' Approved', ' Rejected',\n",
       "       ' Approved', ' Approved', ' Rejected', ' Approved', ' Approved',\n",
       "       ' Approved', ' Approved', ' Rejected', ' Approved', ' Approved',\n",
       "       ' Approved', ' Rejected', ' Approved', ' Rejected', ' Rejected',\n",
       "       ' Approved', ' Approved', ' Approved', ' Approved', ' Approved',\n",
       "       ' Rejected', ' Approved', ' Approved', ' Approved', ' Approved',\n",
       "       ' Approved', ' Rejected', ' Approved', ' Approved', ' Approved',\n",
       "       ' Approved', ' Rejected', ' Approved', ' Approved', ' Approved',\n",
       "       ' Approved', ' Approved', ' Approved', ' Rejected', ' Rejected',\n",
       "       ' Approved', ' Approved', ' Rejected', ' Approved', ' Approved',\n",
       "       ' Rejected', ' Rejected', ' Approved', ' Rejected', ' Rejected',\n",
       "       ' Approved', ' Approved', ' Rejected', ' Approved', ' Approved',\n",
       "       ' Rejected', ' Approved', ' Approved', ' Approved', ' Rejected',\n",
       "       ' Rejected', ' Rejected', ' Approved', ' Approved', ' Rejected',\n",
       "       ' Rejected', ' Rejected', ' Approved', ' Approved', ' Approved',\n",
       "       ' Approved', ' Approved', ' Approved', ' Rejected', ' Rejected',\n",
       "       ' Approved', ' Rejected', ' Rejected', ' Approved', ' Rejected',\n",
       "       ' Rejected', ' Rejected', ' Approved', ' Approved', ' Approved',\n",
       "       ' Approved', ' Rejected', ' Rejected', ' Approved', ' Rejected',\n",
       "       ' Approved', ' Rejected', ' Rejected', ' Approved', ' Rejected',\n",
       "       ' Approved', ' Approved', ' Rejected', ' Approved', ' Rejected',\n",
       "       ' Approved', ' Approved', ' Rejected', ' Approved', ' Approved',\n",
       "       ' Approved', ' Approved', ' Rejected', ' Approved', ' Approved',\n",
       "       ' Approved', ' Rejected', ' Approved', ' Approved', ' Rejected',\n",
       "       ' Rejected', ' Approved', ' Rejected', ' Approved', ' Rejected',\n",
       "       ' Approved', ' Approved', ' Rejected', ' Rejected', ' Approved',\n",
       "       ' Approved', ' Rejected', ' Approved', ' Approved', ' Approved',\n",
       "       ' Rejected', ' Approved', ' Approved', ' Approved'], dtype=object)"
      ]
     },
     "execution_count": 35,
     "metadata": {},
     "output_type": "execute_result"
    }
   ],
   "source": [
    "y_pred = clf_entropy.predict(X_test)\n",
    "y_pred"
   ]
  },
  {
   "cell_type": "code",
   "execution_count": 36,
   "id": "2940d340",
   "metadata": {},
   "outputs": [
    {
     "data": {
      "text/plain": [
       "0.9566744730679156"
      ]
     },
     "execution_count": 36,
     "metadata": {},
     "output_type": "execute_result"
    }
   ],
   "source": [
    "clf_entropy.score(X_test,y_test)"
   ]
  },
  {
   "cell_type": "code",
   "execution_count": 37,
   "id": "628de409",
   "metadata": {},
   "outputs": [
    {
     "data": {
      "text/plain": [
       "0.9566744730679156"
      ]
     },
     "execution_count": 37,
     "metadata": {},
     "output_type": "execute_result"
    }
   ],
   "source": [
    "from sklearn.metrics import accuracy_score\n",
    "accuracy_score(y_test,y_pred)"
   ]
  },
  {
   "cell_type": "code",
   "execution_count": 38,
   "id": "0f7d0963",
   "metadata": {},
   "outputs": [
    {
     "data": {
      "text/plain": [
       "[Text(0.5555555555555556, 0.875, 'x[4] <= 549.5\\nentropy = 0.958\\nsamples = 3415\\nvalue = [2119, 1296]'),\n",
       " Text(0.3333333333333333, 0.625, 'x[3] <= 5.0\\nentropy = 0.462\\nsamples = 1423\\nvalue = [139, 1284]'),\n",
       " Text(0.2222222222222222, 0.375, 'x[2] <= 26150000.0\\nentropy = 1.0\\nsamples = 278\\nvalue = [139, 139]'),\n",
       " Text(0.1111111111111111, 0.125, 'entropy = 0.984\\nsamples = 239\\nvalue = [102, 137]'),\n",
       " Text(0.3333333333333333, 0.125, 'entropy = 0.292\\nsamples = 39\\nvalue = [37, 2]'),\n",
       " Text(0.4444444444444444, 0.375, 'entropy = 0.0\\nsamples = 1145\\nvalue = [0, 1145]'),\n",
       " Text(0.7777777777777778, 0.625, 'x[5] <= 1050000.0\\nentropy = 0.053\\nsamples = 1992\\nvalue = [1980, 12]'),\n",
       " Text(0.6666666666666666, 0.375, 'x[2] <= 30950000.0\\nentropy = 0.247\\nsamples = 293\\nvalue = [281, 12]'),\n",
       " Text(0.5555555555555556, 0.125, 'entropy = 0.218\\nsamples = 288\\nvalue = [278, 10]'),\n",
       " Text(0.7777777777777778, 0.125, 'entropy = 0.971\\nsamples = 5\\nvalue = [3, 2]'),\n",
       " Text(0.8888888888888888, 0.375, 'entropy = 0.0\\nsamples = 1699\\nvalue = [1699, 0]')]"
      ]
     },
     "execution_count": 38,
     "metadata": {},
     "output_type": "execute_result"
    },
    {
     "data": {
      "image/png": "[encoded data removed]",
      "text/plain": [
       "<Figure size 640x480 with 1 Axes>"
      ]
     },
     "metadata": {},
     "output_type": "display_data"
    }
   ],
   "source": [
    "tree.plot_tree(clf_entropy)"
   ]
  },
  {
   "cell_type": "code",
   "execution_count": null,
   "id": "1c0fa5ce",
   "metadata": {},
   "outputs": [],
   "source": []
  }
 ],
 "metadata": {
  "kernelspec": {
   "display_name": "base",
   "language": "python",
   "name": "python3"
  },
  "language_info": {
   "codemirror_mode": {
    "name": "ipython",
    "version": 3
   },
   "file_extension": ".py",
   "mimetype": "text/x-python",
   "name": "python",
   "nbconvert_exporter": "python",
   "pygments_lexer": "ipython3",
   "version": "3.11.5"
  }
 },
 "nbformat": 4,
 "nbformat_minor": 5
}
